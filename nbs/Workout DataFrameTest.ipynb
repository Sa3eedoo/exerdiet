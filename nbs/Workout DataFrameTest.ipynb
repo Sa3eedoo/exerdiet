{
 "cells": [
  {
   "cell_type": "code",
   "execution_count": 1,
   "id": "b318dff4",
   "metadata": {},
   "outputs": [],
   "source": [
    "import setup_django\n",
    "setup_django.init()"
   ]
  },
  {
   "cell_type": "code",
   "execution_count": 2,
   "id": "71a80034",
   "metadata": {},
   "outputs": [],
   "source": [
    "# import requests\n",
    "\n",
    "# response = requests.get('http://localhost:8000/hello/')\n",
    "# print(response.text)"
   ]
  },
  {
   "cell_type": "code",
   "execution_count": 25,
   "id": "d6ada63b",
   "metadata": {},
   "outputs": [],
   "source": [
    "from gym.models import Workout\n",
    "from ratings.models import Rating\n",
    "\n",
    "\n",
    "qss = Rating.objects.all().values('trainee', 'object_id', 'value')\n",
    "\n",
    "# qs = Workout.objects.all().values('name', 'instructions', 'is_public', 'image', 'trainee',\n",
    "#                                   'rating_last_updated', 'rating_count', 'rating_avg')"
   ]
  },
  {
   "cell_type": "code",
   "execution_count": 26,
   "id": "00b0ee8e",
   "metadata": {},
   "outputs": [
    {
     "data": {
      "text/plain": [
       "<RatingQuerySet [{'trainee': 524, 'object_id': 1145, 'value': 5}, {'trainee': 1459, 'object_id': 447, 'value': 3}, {'trainee': 1279, 'object_id': 311, 'value': 5}, {'trainee': 1127, 'object_id': 1205, 'value': 1}, {'trainee': 515, 'object_id': 1343, 'value': 5}, {'trainee': 635, 'object_id': 1668, 'value': 5}, {'trainee': 228, 'object_id': 966, 'value': 3}, {'trainee': 331, 'object_id': 1868, 'value': 2}, {'trainee': 70, 'object_id': 989, 'value': 2}, {'trainee': 1298, 'object_id': 1250, 'value': 3}, {'trainee': 1300, 'object_id': 1533, 'value': 3}, {'trainee': 573, 'object_id': 1462, 'value': 2}, {'trainee': 23, 'object_id': 151, 'value': 1}, {'trainee': 1140, 'object_id': 1158, 'value': 1}, {'trainee': 584, 'object_id': 667, 'value': 1}, {'trainee': 1415, 'object_id': 606, 'value': 2}, {'trainee': 486, 'object_id': 1188, 'value': 5}, {'trainee': 1062, 'object_id': 1615, 'value': 5}, {'trainee': 132, 'object_id': 556, 'value': 5}, {'trainee': 1848, 'object_id': 416, 'value': 5}, '...(remaining elements truncated)...']>"
      ]
     },
     "execution_count": 26,
     "metadata": {},
     "output_type": "execute_result"
    }
   ],
   "source": [
    "qss"
   ]
  },
  {
   "cell_type": "code",
   "execution_count": 27,
   "id": "027c8ba9",
   "metadata": {},
   "outputs": [],
   "source": [
    "import pandas as pd"
   ]
  },
  {
   "cell_type": "code",
   "execution_count": 30,
   "id": "805e7fd9",
   "metadata": {},
   "outputs": [
    {
     "data": {
      "text/html": [
       "<div>\n",
       "<style scoped>\n",
       "    .dataframe tbody tr th:only-of-type {\n",
       "        vertical-align: middle;\n",
       "    }\n",
       "\n",
       "    .dataframe tbody tr th {\n",
       "        vertical-align: top;\n",
       "    }\n",
       "\n",
       "    .dataframe thead th {\n",
       "        text-align: right;\n",
       "    }\n",
       "</style>\n",
       "<table border=\"1\" class=\"dataframe\">\n",
       "  <thead>\n",
       "    <tr style=\"text-align: right;\">\n",
       "      <th></th>\n",
       "      <th>trainee</th>\n",
       "      <th>object_id</th>\n",
       "      <th>value</th>\n",
       "    </tr>\n",
       "  </thead>\n",
       "  <tbody>\n",
       "    <tr>\n",
       "      <th>0</th>\n",
       "      <td>524</td>\n",
       "      <td>1145</td>\n",
       "      <td>5</td>\n",
       "    </tr>\n",
       "    <tr>\n",
       "      <th>1</th>\n",
       "      <td>1459</td>\n",
       "      <td>447</td>\n",
       "      <td>3</td>\n",
       "    </tr>\n",
       "    <tr>\n",
       "      <th>2</th>\n",
       "      <td>1279</td>\n",
       "      <td>311</td>\n",
       "      <td>5</td>\n",
       "    </tr>\n",
       "    <tr>\n",
       "      <th>3</th>\n",
       "      <td>1127</td>\n",
       "      <td>1205</td>\n",
       "      <td>1</td>\n",
       "    </tr>\n",
       "    <tr>\n",
       "      <th>4</th>\n",
       "      <td>515</td>\n",
       "      <td>1343</td>\n",
       "      <td>5</td>\n",
       "    </tr>\n",
       "    <tr>\n",
       "      <th>5</th>\n",
       "      <td>635</td>\n",
       "      <td>1668</td>\n",
       "      <td>5</td>\n",
       "    </tr>\n",
       "    <tr>\n",
       "      <th>6</th>\n",
       "      <td>228</td>\n",
       "      <td>966</td>\n",
       "      <td>3</td>\n",
       "    </tr>\n",
       "    <tr>\n",
       "      <th>7</th>\n",
       "      <td>331</td>\n",
       "      <td>1868</td>\n",
       "      <td>2</td>\n",
       "    </tr>\n",
       "    <tr>\n",
       "      <th>8</th>\n",
       "      <td>70</td>\n",
       "      <td>989</td>\n",
       "      <td>2</td>\n",
       "    </tr>\n",
       "    <tr>\n",
       "      <th>9</th>\n",
       "      <td>1298</td>\n",
       "      <td>1250</td>\n",
       "      <td>3</td>\n",
       "    </tr>\n",
       "    <tr>\n",
       "      <th>10</th>\n",
       "      <td>1300</td>\n",
       "      <td>1533</td>\n",
       "      <td>3</td>\n",
       "    </tr>\n",
       "    <tr>\n",
       "      <th>11</th>\n",
       "      <td>573</td>\n",
       "      <td>1462</td>\n",
       "      <td>2</td>\n",
       "    </tr>\n",
       "    <tr>\n",
       "      <th>12</th>\n",
       "      <td>23</td>\n",
       "      <td>151</td>\n",
       "      <td>1</td>\n",
       "    </tr>\n",
       "    <tr>\n",
       "      <th>13</th>\n",
       "      <td>1140</td>\n",
       "      <td>1158</td>\n",
       "      <td>1</td>\n",
       "    </tr>\n",
       "    <tr>\n",
       "      <th>14</th>\n",
       "      <td>584</td>\n",
       "      <td>667</td>\n",
       "      <td>1</td>\n",
       "    </tr>\n",
       "    <tr>\n",
       "      <th>15</th>\n",
       "      <td>1415</td>\n",
       "      <td>606</td>\n",
       "      <td>2</td>\n",
       "    </tr>\n",
       "    <tr>\n",
       "      <th>16</th>\n",
       "      <td>486</td>\n",
       "      <td>1188</td>\n",
       "      <td>5</td>\n",
       "    </tr>\n",
       "    <tr>\n",
       "      <th>17</th>\n",
       "      <td>1062</td>\n",
       "      <td>1615</td>\n",
       "      <td>5</td>\n",
       "    </tr>\n",
       "    <tr>\n",
       "      <th>18</th>\n",
       "      <td>132</td>\n",
       "      <td>556</td>\n",
       "      <td>5</td>\n",
       "    </tr>\n",
       "    <tr>\n",
       "      <th>19</th>\n",
       "      <td>1848</td>\n",
       "      <td>416</td>\n",
       "      <td>5</td>\n",
       "    </tr>\n",
       "  </tbody>\n",
       "</table>\n",
       "</div>"
      ],
      "text/plain": [
       "    trainee  object_id  value\n",
       "0       524       1145      5\n",
       "1      1459        447      3\n",
       "2      1279        311      5\n",
       "3      1127       1205      1\n",
       "4       515       1343      5\n",
       "5       635       1668      5\n",
       "6       228        966      3\n",
       "7       331       1868      2\n",
       "8        70        989      2\n",
       "9      1298       1250      3\n",
       "10     1300       1533      3\n",
       "11      573       1462      2\n",
       "12       23        151      1\n",
       "13     1140       1158      1\n",
       "14      584        667      1\n",
       "15     1415        606      2\n",
       "16      486       1188      5\n",
       "17     1062       1615      5\n",
       "18      132        556      5\n",
       "19     1848        416      5"
      ]
     },
     "execution_count": 30,
     "metadata": {},
     "output_type": "execute_result"
    }
   ],
   "source": [
    "df = pd.DataFrame(qss)\n",
    "df.head(n=20)"
   ]
  },
  {
   "cell_type": "code",
   "execution_count": 6,
   "id": "f5de7ec8",
   "metadata": {},
   "outputs": [
    {
     "data": {
      "text/plain": [
       "{'name': 'Chest Day',\n",
       " 'instructions': '5 sets of 5 reps each for bench press, incline bench press, and dumbbell flyes',\n",
       " 'is_public': True,\n",
       " 'image': '',\n",
       " 'trainee': 1,\n",
       " 'rating_last_updated': datetime.datetime(2023, 5, 17, 11, 46, 52, 386123, tzinfo=datetime.timezone.utc),\n",
       " 'rating_count': 7,\n",
       " 'rating_avg': Decimal('3.71')}"
      ]
     },
     "execution_count": 6,
     "metadata": {},
     "output_type": "execute_result"
    }
   ],
   "source": [
    "qs.first()"
   ]
  },
  {
   "cell_type": "code",
   "execution_count": 32,
   "id": "405bf142",
   "metadata": {},
   "outputs": [],
   "source": [
    "# df.to_csv()\n",
    "df.to_csv('data.csv', index=False)"
   ]
  },
  {
   "cell_type": "code",
   "execution_count": null,
   "id": "7910be0a",
   "metadata": {},
   "outputs": [],
   "source": []
  }
 ],
 "metadata": {
  "kernelspec": {
   "display_name": "Python 3 (ipykernel)",
   "language": "python",
   "name": "python3"
  },
  "language_info": {
   "codemirror_mode": {
    "name": "ipython",
    "version": 3
   },
   "file_extension": ".py",
   "mimetype": "text/x-python",
   "name": "python",
   "nbconvert_exporter": "python",
   "pygments_lexer": "ipython3",
   "version": "3.11.2"
  }
 },
 "nbformat": 4,
 "nbformat_minor": 5
}
